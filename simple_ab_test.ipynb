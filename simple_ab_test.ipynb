{
  "nbformat": 4,
  "nbformat_minor": 0,
  "metadata": {
    "colab": {
      "name": "Untitled3.ipynb",
      "provenance": [],
      "authorship_tag": "ABX9TyOasfZ3jNYeTRZbXMgXSdZT",
      "include_colab_link": true
    },
    "kernelspec": {
      "name": "python3",
      "display_name": "Python 3"
    },
    "language_info": {
      "name": "python"
    }
  },
  "cells": [
    {
      "cell_type": "markdown",
      "metadata": {
        "id": "view-in-github",
        "colab_type": "text"
      },
      "source": [
        "<a href=\"https://colab.research.google.com/github/ferjorosa/learn-pymc/blob/main/simple_ab_test.ipynb\" target=\"_parent\"><img src=\"https://colab.research.google.com/assets/colab-badge.svg\" alt=\"Open In Colab\"/></a>"
      ]
    },
    {
      "cell_type": "markdown",
      "metadata": {
        "id": "oDLN_Qh11SNX"
      },
      "source": [
        "## A/B testing with PyMC3\n",
        "\n",
        "[Original article](https://towardsdatascience.com/bayesian-a-b-testing-in-pymc3-54dceb87af74)\n",
        "\n",
        "### Motivation\n",
        "\n",
        "Imagine that you operate a moderately successful online store with around 10,000 visitors every day. Around 100 of these 10,000 people actually buy something from your shop — your so-called conversion rate is about 100/10,000 = 1%, which is rather small.\n",
        "\n",
        "Since many people reach your shop anyway, yet only an underwhelming percentage of them become customers, you conclude to increase your shop’s conversion rate as this is the biggest lever for higher revenues. You think: **\"What keeps people from buying my awesome products?\"**\n",
        "\n",
        "You can’t come up with a good explanation, so you ask some friends for inspiration. They tell you that they no fans of the color blue of your buy button. Perhaps a red would be more inviting? This is something you can test!\n"
      ]
    },
    {
      "cell_type": "markdown",
      "metadata": {
        "id": "cRJNmAqm2yPO"
      },
      "source": [
        "### A/B test method\n",
        "\n",
        "The method is the following:\n",
        "\n",
        "Randomly assign new visitors to your shop to either team blue or team red with a 50% probability. People in team blue will see the blue button, team red the red one. After running this process for some time, you check which team achieved a higher conversion rate.\n",
        "\n",
        "**Terminology:** You call the blue team **control group** and the red team **treatment group** or **test group**. The control group gives you an indication of what happens if you leave everything as is, the treatment group tells you what happens if you do some kind of intervention, such as changing the button color.\n",
        "\n",
        "Note that this kind of randomization is important if you want to evaluate the experiment easily. Things that you should not do include:\n",
        "\n",
        "* Assigning all men to team red, all women to team blue, because even if one team’s conversion rate is much higher, you cannot know if this is due to the button color or merely the gender.\n",
        "\n",
        "* Assign everyone to team red this week and to team blue the next week, because even if one team’s conversion rate is much higher, you cannot know if this is due to the button color or if people just bought more stuff in one week, regardless of the color. Maybe one of the weeks included holidays like Black Friday or Christmas, or other, more subtle seasonal patterns.\n",
        "\n",
        "* …\n",
        "\n",
        "You get the idea. In order to distill the button color effect, there should be no other **confounding effects** that could explain the different conversion rates in both teams as well."
      ]
    },
    {
      "cell_type": "markdown",
      "metadata": {
        "id": "LVLrAXAh2vLQ"
      },
      "source": [
        "### Preparing the A/B Test\n",
        "\n",
        "Let’s assume that you conducted a proper data collection for your A/B test for one day and ended up with some data. You had exactly 10,000 visitors which you randomly grouped into team blue (control group) and red (treatment group). You took notes about if this visitor bought something (encoded as 1) or not (encoded as 0).\n",
        "\n",
        "We simulate the outcome using this code:"
      ]
    },
    {
      "cell_type": "code",
      "metadata": {
        "id": "OdSR8ZRA1XK2"
      },
      "source": [
        "import numpy as np\n",
        "np.random.seed(0)\n",
        "\n",
        "# params: number of trials, prob, number of simulations\n",
        "blue_conversions = np.random.binomial(1, 0.01, size=4800) \n",
        "red_conversions = np.random.binomial(1, 0.012, size=5200)"
      ],
      "execution_count": 10,
      "outputs": []
    },
    {
      "cell_type": "markdown",
      "metadata": {
        "id": "sMazInpEB91E"
      },
      "source": [
        "You can see that I put 1% as the control group conversion rate and 1.2% as the treatment group conversion rate. So you already know that the red button should perform better if the sampling did nothing too weird! But let us pretend from now that we do not know how the data was generated because that is what we always face in reality."
      ]
    },
    {
      "cell_type": "code",
      "metadata": {
        "colab": {
          "base_uri": "https://localhost:8080/"
        },
        "id": "YUFX3-mRB5Eu",
        "outputId": "4a8a87a5-aebf-4f86-c3bb-3736c9271a57"
      },
      "source": [
        "print(f'Blue: {blue_conversions.mean():.3%}')\n",
        "print(f'Red: {red_conversions.mean():.3%}')\n",
        "# output: Blue: 0.854%, Red: 1.135%"
      ],
      "execution_count": 12,
      "outputs": [
        {
          "output_type": "stream",
          "name": "stdout",
          "text": [
            "Blue: 0.854%\n",
            "Red: 1.135%\n"
          ]
        }
      ]
    },
    {
      "cell_type": "markdown",
      "metadata": {
        "id": "UyF8koogCT1L"
      },
      "source": [
        "This indicates that the red button might perform better, but we can’t really know at this point. Even if the conversion rates across the different groups were exactly the same, one group would end up with more conversions than the other one with a high probability.\n",
        "We still have to rule out that this happened only due to mere chance and this is exactly what an A/B test is for."
      ]
    },
    {
      "cell_type": "markdown",
      "metadata": {
        "id": "rdKRcdtgCLKD"
      },
      "source": [
        "### Conducting the A/B Test"
      ]
    },
    {
      "cell_type": "markdown",
      "metadata": {
        "id": "R4G50COACX-L"
      },
      "source": [
        "#### Frequentist approach\n",
        "\n",
        "Basically, you compute some kind of test statistics such as in [Fisher’s exact test](https://en.wikipedia.org/wiki/Fisher%27s_exact_test) or [Welch’s t-test](https://en.wikipedia.org/wiki/Welch's_t-test). Then you compute a p-value and check if this is under some arbitrary bound such as 5%. Let’s go for Welch’s t-test.\n",
        "\n",
        "The $\\chi^{2}$ test could also be used. However, in this case it would be diluted due to the very low probability of conversion in either way, which is greatly penalized by the $\\chi^{2}$ test"
      ]
    },
    {
      "cell_type": "code",
      "metadata": {
        "colab": {
          "base_uri": "https://localhost:8080/"
        },
        "id": "MRA3wacBCcCM",
        "outputId": "ff67c709-50ed-48f3-8abd-8379182a800d"
      },
      "source": [
        "from scipy.stats import ttest_ind\n",
        "from scipy.stats import chi2_contingency\n",
        "\n",
        "print(\"t-test: \" + str(ttest_ind(blue_conversions, red_conversions, equal_var=False).pvalue) + \"\\n\")\n",
        "\n",
        "\n",
        "blue_unique_counts = np.unique(blue_conversions, return_counts=True)[1]\n",
        "red_unique_counts = np.unique(red_conversions, return_counts=True)[1]\n",
        "\n",
        "table = np.stack((blue_unique_counts / blue_unique_counts.sum(), \n",
        "                  red_unique_counts / red_unique_counts.sum()))\n",
        "print(\"chi-test: \" + str(chi2_contingency(table)[1]))\n",
        "print(blue_unique_counts / blue_unique_counts.sum())\n",
        "print(red_unique_counts / red_unique_counts.sum())\n"
      ],
      "execution_count": 54,
      "outputs": [
        {
          "output_type": "stream",
          "name": "stdout",
          "text": [
            "t-test: 0.15678746186830367\n",
            "\n",
            "chi-test: 1.1900771376715041e-12\n",
            "[0.99145833 0.00854167]\n",
            "[0.98865385 0.01134615]\n"
          ]
        }
      ]
    },
    {
      "cell_type": "markdown",
      "metadata": {
        "id": "LVVT4mSuKDL7"
      },
      "source": [
        "Considering the t-test, it is not evident that the red button is better than the blue button because there is not a statistically significant difference between the conversion rates."
      ]
    },
    {
      "cell_type": "markdown",
      "metadata": {
        "id": "J-H-73JYKCr8"
      },
      "source": [
        "#### Bayesian approach\n",
        "\n",
        "Usually, people use a classical A/B test using p-values. While this is a familiar concept for statisticians, normal people often get confused statements involving p-values. That’s why we turned to Bayesian A/B testing, which allows for results that everyone can easily grasp. \n",
        "\n",
        "Another advantage of the Bayesian approach is that we do not need to know all of the statistical significance tests. We can just make up a proper generative model and estimate the posterior distribution.\n",
        "\n",
        "In this case, we are dealing with two series of Bernoulli trials. Therefore, we need to establish Beta priors. For the parameters, we are going to consider 100 **pseudocounts**, where each state of the bernoulli distribution considers the probability*100 of conversion rate. In both cases (blue and red), the conversion rate is near 1%. Therefore, we are going to assign 1 pseudocount to the positive conversion event and 99 pseudocounts to the negative conversion event.\n",
        "\n"
      ]
    },
    {
      "cell_type": "code",
      "metadata": {
        "id": "D965fhO_KZS7"
      },
      "source": [
        "import pymc3 as pm\n",
        "\n",
        "with pm.Model() as model:\n",
        "    blue_rate = pm.Beta('blue_rate', 1, 99)\n",
        "    red_rate = pm.Beta('red_rate', 1, 99)"
      ],
      "execution_count": 55,
      "outputs": []
    },
    {
      "cell_type": "markdown",
      "metadata": {
        "id": "vUCgHq6kUoIp"
      },
      "source": [
        "Once our priors have been established, we define the likelihood distribution and its observations"
      ]
    },
    {
      "cell_type": "code",
      "metadata": {
        "id": "yns4CzFwUnVz"
      },
      "source": [
        "with model:\n",
        "    blue_obs = pm.Bernoulli('blue_obs', blue_rate, observed=blue_conversions)\n",
        "    red_obs = pm.Bernoulli('red_obs', red_rate, observed=red_conversions)"
      ],
      "execution_count": 56,
      "outputs": []
    },
    {
      "cell_type": "markdown",
      "metadata": {
        "id": "Og7T89mBWC3h"
      },
      "source": [
        "Finally, we sample from the posterior distribution. In this case we use the Metropolis-Hastings method with 5000 samples and 2500 tuning samples. Tuning is similar to a warm-up process for the sampler. For more in-depth information about tunning, [see this](https://colcarroll.github.io/hmc_tuning_talk/)"
      ]
    },
    {
      "cell_type": "code",
      "metadata": {
        "colab": {
          "base_uri": "https://localhost:8080/",
          "height": 158
        },
        "id": "gT4OGVQIWAWJ",
        "outputId": "c8fb5d0d-15b5-4cc6-d5fb-b5628903f0bb"
      },
      "source": [
        "with model:\n",
        "    step = pm.Metropolis()\n",
        "    trace = pm.sample(5000, tune=2500, step=step, return_inferencedata=False)"
      ],
      "execution_count": 63,
      "outputs": [
        {
          "output_type": "stream",
          "name": "stderr",
          "text": [
            "Sequential sampling (2 chains in 1 job)\n",
            "CompoundStep\n",
            ">Metropolis: [red_rate]\n",
            ">Metropolis: [blue_rate]\n"
          ]
        },
        {
          "output_type": "display_data",
          "data": {
            "text/html": [
              "\n",
              "    <div>\n",
              "        <style>\n",
              "            /* Turns off some styling */\n",
              "            progress {\n",
              "                /* gets rid of default border in Firefox and Opera. */\n",
              "                border: none;\n",
              "                /* Needs to be in here for Safari polyfill so background images work as expected. */\n",
              "                background-size: auto;\n",
              "            }\n",
              "            .progress-bar-interrupted, .progress-bar-interrupted::-webkit-progress-bar {\n",
              "                background: #F44336;\n",
              "            }\n",
              "        </style>\n",
              "      <progress value='7500' class='' max='7500' style='width:300px; height:20px; vertical-align: middle;'></progress>\n",
              "      100.00% [7500/7500 00:02<00:00 Sampling chain 0, 0 divergences]\n",
              "    </div>\n",
              "    "
            ],
            "text/plain": [
              "<IPython.core.display.HTML object>"
            ]
          },
          "metadata": {}
        },
        {
          "output_type": "display_data",
          "data": {
            "text/html": [
              "\n",
              "    <div>\n",
              "        <style>\n",
              "            /* Turns off some styling */\n",
              "            progress {\n",
              "                /* gets rid of default border in Firefox and Opera. */\n",
              "                border: none;\n",
              "                /* Needs to be in here for Safari polyfill so background images work as expected. */\n",
              "                background-size: auto;\n",
              "            }\n",
              "            .progress-bar-interrupted, .progress-bar-interrupted::-webkit-progress-bar {\n",
              "                background: #F44336;\n",
              "            }\n",
              "        </style>\n",
              "      <progress value='7500' class='' max='7500' style='width:300px; height:20px; vertical-align: middle;'></progress>\n",
              "      100.00% [7500/7500 00:02<00:00 Sampling chain 1, 0 divergences]\n",
              "    </div>\n",
              "    "
            ],
            "text/plain": [
              "<IPython.core.display.HTML object>"
            ]
          },
          "metadata": {}
        },
        {
          "output_type": "stream",
          "name": "stderr",
          "text": [
            "Sampling 2 chains for 2_500 tune and 5_000 draw iterations (5_000 + 10_000 draws total) took 6 seconds.\n",
            "The number of effective samples is smaller than 25% for some parameters.\n"
          ]
        }
      ]
    },
    {
      "cell_type": "code",
      "metadata": {
        "colab": {
          "base_uri": "https://localhost:8080/"
        },
        "id": "X68SJ3KcWzN7",
        "outputId": "83c7304e-36c7-45b6-c202-b5bf17e49ae9"
      },
      "source": [
        "blue_rate_posterior_samples = trace[\"blue_rate\"]\n",
        "red_rate_posterior_samples = trace[\"red_rate\"]\n",
        "\n",
        "print(blue_rate_posterior_samples.mean())\n",
        "print(red_rate_posterior_samples.mean())"
      ],
      "execution_count": 83,
      "outputs": [
        {
          "output_type": "stream",
          "name": "stdout",
          "text": [
            "0.008500195079609672\n",
            "0.011290273085946385\n"
          ]
        }
      ]
    },
    {
      "cell_type": "code",
      "metadata": {
        "colab": {
          "base_uri": "https://localhost:8080/",
          "height": 351
        },
        "id": "pBsxIcIVhPGJ",
        "outputId": "59575fb5-0f11-400b-874a-1f45bb90fa31"
      },
      "source": [
        "import seaborn as sns\n",
        "import matplotlib.pyplot as plt\n",
        "\n",
        "fig, (ax1, ax2) = plt.subplots(1, 2, figsize=(10,5))\n",
        "\n",
        "ax1.set_xlabel(\"Blue rate\")\n",
        "ax2.set_xlabel(\"Red rate\")\n",
        "sns.kdeplot(trace[\"blue_rate\"], ax=ax1)\n",
        "sns.kdeplot(trace[\"red_rate\"], ax=ax2)"
      ],
      "execution_count": 82,
      "outputs": [
        {
          "output_type": "execute_result",
          "data": {
            "text/plain": [
              "<matplotlib.axes._subplots.AxesSubplot at 0x7f3d4ace1110>"
            ]
          },
          "metadata": {},
          "execution_count": 82
        },
        {
          "output_type": "display_data",
          "data": {
            "image/png": "[encoded data removed]",
            "text/plain": [
              "<Figure size 720x360 with 2 Axes>"
            ]
          },
          "metadata": {
            "needs_background": "light"
          }
        }
      ]
    },
    {
      "cell_type": "code",
      "metadata": {
        "colab": {
          "base_uri": "https://localhost:8080/"
        },
        "id": "H3_9c30ji3bZ",
        "outputId": "ea852769-0de5-4ddb-84fe-97bc70692cc3"
      },
      "source": [
        "(red_rate_posterior_samples > blue_rate_posterior_samples).mean()"
      ],
      "execution_count": 84,
      "outputs": [
        {
          "output_type": "execute_result",
          "data": {
            "text/plain": [
              "0.9289"
            ]
          },
          "metadata": {},
          "execution_count": 84
        }
      ]
    },
    {
      "cell_type": "markdown",
      "metadata": {
        "id": "NmMP4kG2mlUo"
      },
      "source": [
        "**The Bayesian test says that the red button is better than the blue button with a 0.93 \"confidence\" (probability)**"
      ]
    }
  ]
}