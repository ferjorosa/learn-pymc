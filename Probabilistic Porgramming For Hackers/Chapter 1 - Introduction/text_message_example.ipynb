{
  "nbformat": 4,
  "nbformat_minor": 0,
  "metadata": {
    "kernelspec": {
      "display_name": "Python 3 (ipykernel)",
      "language": "python",
      "name": "python3"
    },
    "language_info": {
      "codemirror_mode": {
        "name": "ipython",
        "version": 3
      },
      "file_extension": ".py",
      "mimetype": "text/x-python",
      "name": "python",
      "nbconvert_exporter": "python",
      "pygments_lexer": "ipython3",
      "version": "3.7.7"
    },
    "colab": {
      "name": "Introduction.ipynb",
      "provenance": [],
      "include_colab_link": true
    }
  },
  "cells": [
    {
      "cell_type": "markdown",
      "metadata": {
        "id": "view-in-github",
        "colab_type": "text"
      },
      "source": [
        "<a href=\"https://colab.research.google.com/github/ferjorosa/learn-pymc/blob/main/Probabilistic%20Porgramming%20For%20Hackers/Chapter%201%20-%20Introduction/text_message_example.ipynb\" target=\"_parent\"><img src=\"https://colab.research.google.com/assets/colab-badge.svg\" alt=\"Open In Colab\"/></a>"
      ]
    },
    {
      "cell_type": "markdown",
      "metadata": {
        "id": "VjeisaLHksSc"
      },
      "source": [
        "We are given a dataset with the average number of messages sent by a person. Our objective is to understand if there has been a gradual or sudden change in the text-mes"
      ]
    },
    {
      "cell_type": "code",
      "metadata": {
        "id": "ExY69pyFksSe",
        "outputId": "2d321e84-bda6-464b-8e46-279a655b09df",
        "colab": {
          "base_uri": "https://localhost:8080/"
        }
      },
      "source": [
        "import numpy as np\n",
        "import pandas as pd\n",
        "import matplotlib.pyplot as plt\n",
        "import seaborn as sns\n",
        "\n",
        "df = pd.read_csv(\"https://raw.githubusercontent.com/ferjorosa/learn-pymc/main/Probabilistic%20Porgramming%20For%20Hackers/Chapter%201%20-%20Introduction/data/msg_data.csv\")\n",
        "print(df.shape)"
      ],
      "execution_count": 6,
      "outputs": [
        {
          "output_type": "stream",
          "name": "stdout",
          "text": [
            "(74, 1)\n"
          ]
        }
      ]
    },
    {
      "cell_type": "code",
      "metadata": {
        "id": "no3jxDG8ksSh",
        "outputId": "130dd9b5-4cd1-4d26-a23b-7ccdfa7d71cd",
        "colab": {
          "base_uri": "https://localhost:8080/",
          "height": 475
        }
      },
      "source": [
        "var_x = np.arange(df.shape[0])\n",
        "var_y = \"day_msgs\"\n",
        "\n",
        "fig, ax = plt.subplots(figsize=(21,7))\n",
        "sns.barplot(ax=ax, data=df, x=var_x, y=var_y, color=\"#348ABD\")\n",
        "plt.xlabel(\"Time (days)\")\n",
        "plt.ylabel(\"count of text-msgs received\")\n",
        "plt.title(\"Did the user's texting habits change over time?\")"
      ],
      "execution_count": 13,
      "outputs": [
        {
          "output_type": "execute_result",
          "data": {
            "text/plain": [
              "Text(0.5, 1.0, \"Did the user's texting habits change over time?\")"
            ]
          },
          "metadata": {},
          "execution_count": 13
        },
        {
          "output_type": "display_data",
          "data": {
            "image/png": "[encoded data removed]",
            "text/plain": [
              "<Figure size 1512x504 with 1 Axes>"
            ]
          },
          "metadata": {
            "needs_background": "light"
          }
        }
      ]
    },
    {
      "cell_type": "markdown",
      "metadata": {
        "id": "6u_9yPU_mHJz"
      },
      "source": [
        "We see that around day 42 there may be a slight increase in the number of messages received. However, we need to prove this. In order to do it, we are going to model the distribution of messages over the recorded period of time.\n",
        "\n"
      ]
    },
    {
      "cell_type": "code",
      "metadata": {
        "id": "KPZvUKMXlQ_C"
      },
      "source": [
        "import pymc3 as pm\n",
        "\n",
        "count_data = df[\"day_msgs\"]\n",
        "n_count_data = df.shape[0]\n",
        "\n",
        "with pm.Model() as model:\n",
        "    alpha = 1.0/count_data.mean()  # Recall count_data is the\n",
        "                                   # variable that holds our txt counts\n",
        "    lambda_1 = pm.Exponential(\"lambda_1\", alpha)\n",
        "    lambda_2 = pm.Exponential(\"lambda_2\", alpha)\n",
        "    \n",
        "    tau = pm.DiscreteUniform(\"tau\", lower=0, upper=n_count_data - 1)"
      ],
      "execution_count": 11,
      "outputs": []
    },
    {
      "cell_type": "code",
      "metadata": {
        "id": "8bWINiHxm6ya"
      },
      "source": [
        "with model:\n",
        "    idx = np.arange(n_count_data) # Index\n",
        "    lambda_ = pm.math.switch(tau > idx, lambda_1, lambda_2)"
      ],
      "execution_count": 14,
      "outputs": []
    },
    {
      "cell_type": "code",
      "metadata": {
        "id": "kDlhN4sVnnOq"
      },
      "source": [
        "with model:\n",
        "    observation = pm.Poisson(\"obs\", lambda_, observed=count_data)"
      ],
      "execution_count": 15,
      "outputs": []
    },
    {
      "cell_type": "code",
      "metadata": {
        "id": "M9rfZBacnqrK",
        "outputId": "8b292f8a-a17a-41ce-e977-36bd7c80c8cc",
        "colab": {
          "base_uri": "https://localhost:8080/",
          "height": 176
        }
      },
      "source": [
        "with model:\n",
        "    step = pm.Metropolis()\n",
        "    trace = pm.sample(10000, tune=5000, step=step, return_inferencedata=False)"
      ],
      "execution_count": 16,
      "outputs": [
        {
          "output_type": "stream",
          "name": "stderr",
          "text": [
            "Sequential sampling (2 chains in 1 job)\n",
            "CompoundStep\n",
            ">Metropolis: [tau]\n",
            ">Metropolis: [lambda_2]\n",
            ">Metropolis: [lambda_1]\n"
          ]
        },
        {
          "output_type": "display_data",
          "data": {
            "text/html": [
              "\n",
              "    <div>\n",
              "        <style>\n",
              "            /* Turns off some styling */\n",
              "            progress {\n",
              "                /* gets rid of default border in Firefox and Opera. */\n",
              "                border: none;\n",
              "                /* Needs to be in here for Safari polyfill so background images work as expected. */\n",
              "                background-size: auto;\n",
              "            }\n",
              "            .progress-bar-interrupted, .progress-bar-interrupted::-webkit-progress-bar {\n",
              "                background: #F44336;\n",
              "            }\n",
              "        </style>\n",
              "      <progress value='15000' class='' max='15000' style='width:300px; height:20px; vertical-align: middle;'></progress>\n",
              "      100.00% [15000/15000 00:06<00:00 Sampling chain 0, 0 divergences]\n",
              "    </div>\n",
              "    "
            ],
            "text/plain": [
              "<IPython.core.display.HTML object>"
            ]
          },
          "metadata": {}
        },
        {
          "output_type": "display_data",
          "data": {
            "text/html": [
              "\n",
              "    <div>\n",
              "        <style>\n",
              "            /* Turns off some styling */\n",
              "            progress {\n",
              "                /* gets rid of default border in Firefox and Opera. */\n",
              "                border: none;\n",
              "                /* Needs to be in here for Safari polyfill so background images work as expected. */\n",
              "                background-size: auto;\n",
              "            }\n",
              "            .progress-bar-interrupted, .progress-bar-interrupted::-webkit-progress-bar {\n",
              "                background: #F44336;\n",
              "            }\n",
              "        </style>\n",
              "      <progress value='15000' class='' max='15000' style='width:300px; height:20px; vertical-align: middle;'></progress>\n",
              "      100.00% [15000/15000 00:05<00:00 Sampling chain 1, 0 divergences]\n",
              "    </div>\n",
              "    "
            ],
            "text/plain": [
              "<IPython.core.display.HTML object>"
            ]
          },
          "metadata": {}
        },
        {
          "output_type": "stream",
          "name": "stderr",
          "text": [
            "Sampling 2 chains for 5_000 tune and 10_000 draw iterations (10_000 + 20_000 draws total) took 12 seconds.\n",
            "The number of effective samples is smaller than 10% for some parameters.\n"
          ]
        }
      ]
    },
    {
      "cell_type": "code",
      "metadata": {
        "id": "iVThHtxvnwSB"
      },
      "source": [
        "lambda_1_samples = trace['lambda_1']\n",
        "lambda_2_samples = trace['lambda_2']\n",
        "tau_samples = trace['tau']"
      ],
      "execution_count": 17,
      "outputs": []
    },
    {
      "cell_type": "code",
      "metadata": {
        "id": "e7wYNlAGnymY",
        "outputId": "a44f8f57-93f7-4931-d05c-9d5fe8877820",
        "colab": {
          "base_uri": "https://localhost:8080/",
          "height": 284
        }
      },
      "source": [
        "sns.histplot(lambda_1_samples)"
      ],
      "execution_count": 21,
      "outputs": [
        {
          "output_type": "execute_result",
          "data": {
            "text/plain": [
              "<matplotlib.axes._subplots.AxesSubplot at 0x7fa54147dc10>"
            ]
          },
          "metadata": {},
          "execution_count": 21
        },
        {
          "output_type": "display_data",
          "data": {
            "image/png": "[encoded data removed]",
            "text/plain": [
              "<Figure size 432x288 with 1 Axes>"
            ]
          },
          "metadata": {
            "needs_background": "light"
          }
        }
      ]
    },
    {
      "cell_type": "code",
      "metadata": {
        "id": "Stv_sk4QomB7",
        "outputId": "49836259-8907-46e4-bf83-d9d71ac8a10f",
        "colab": {
          "base_uri": "https://localhost:8080/",
          "height": 282
        }
      },
      "source": [
        "sns.histplot(lambda_2_samples)"
      ],
      "execution_count": 22,
      "outputs": [
        {
          "output_type": "execute_result",
          "data": {
            "text/plain": [
              "<matplotlib.axes._subplots.AxesSubplot at 0x7fa5412d11d0>"
            ]
          },
          "metadata": {},
          "execution_count": 22
        },
        {
          "output_type": "display_data",
          "data": {
            "image/png": "[encoded data removed]",
            "text/plain": [
              "<Figure size 432x288 with 1 Axes>"
            ]
          },
          "metadata": {
            "needs_background": "light"
          }
        }
      ]
    },
    {
      "cell_type": "code",
      "metadata": {
        "id": "YZ5dyhZDomy5",
        "outputId": "43bd4346-fb1a-42cf-fd83-e81f3e8db36b",
        "colab": {
          "base_uri": "https://localhost:8080/",
          "height": 282
        }
      },
      "source": [
        "sns.histplot(tau_samples)"
      ],
      "execution_count": 23,
      "outputs": [
        {
          "output_type": "execute_result",
          "data": {
            "text/plain": [
              "<matplotlib.axes._subplots.AxesSubplot at 0x7fa5411b8350>"
            ]
          },
          "metadata": {},
          "execution_count": 23
        },
        {
          "output_type": "display_data",
          "data": {
            "image/png": "[encoded data removed]",
            "text/plain": [
              "<Figure size 432x288 with 1 Axes>"
            ]
          },
          "metadata": {
            "needs_background": "light"
          }
        }
      ]
    },
    {
      "cell_type": "code",
      "metadata": {
        "id": "mzMc6WnYosxQ",
        "outputId": "a3c70805-0f91-4c27-8517-e654d309e5bd",
        "colab": {
          "base_uri": "https://localhost:8080/"
        }
      },
      "source": [
        "tau_samples"
      ],
      "execution_count": 24,
      "outputs": [
        {
          "output_type": "execute_result",
          "data": {
            "text/plain": [
              "array([44, 44, 44, ..., 45, 45, 45])"
            ]
          },
          "metadata": {},
          "execution_count": 24
        }
      ]
    }
  ]
}