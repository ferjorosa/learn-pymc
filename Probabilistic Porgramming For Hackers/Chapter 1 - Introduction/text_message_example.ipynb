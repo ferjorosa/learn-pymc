{
  "nbformat": 4,
  "nbformat_minor": 0,
  "metadata": {
    "kernelspec": {
      "display_name": "Python 3 (ipykernel)",
      "language": "python",
      "name": "python3"
    },
    "language_info": {
      "codemirror_mode": {
        "name": "ipython",
        "version": 3
      },
      "file_extension": ".py",
      "mimetype": "text/x-python",
      "name": "python",
      "nbconvert_exporter": "python",
      "pygments_lexer": "ipython3",
      "version": "3.7.7"
    },
    "colab": {
      "name": "Introduction.ipynb",
      "provenance": [],
      "include_colab_link": true
    }
  },
  "cells": [
    {
      "cell_type": "markdown",
      "metadata": {
        "id": "view-in-github",
        "colab_type": "text"
      },
      "source": [
        "<a href=\"https://colab.research.google.com/github/ferjorosa/learn-pymc/blob/main/Probabilistic%20Porgramming%20For%20Hackers/Chapter%201%20-%20Introduction/text_message_example.ipynb\" target=\"_parent\"><img src=\"https://colab.research.google.com/assets/colab-badge.svg\" alt=\"Open In Colab\"/></a>"
      ]
    },
    {
      "cell_type": "markdown",
      "metadata": {
        "id": "SUwsoRlwv6W2"
      },
      "source": [
        "## Inferring behaviour from text-message data\n",
        "\n",
        "We are given a dataset with the average number of messages sent by a person. Our objective is to understand if there has been a gradual or sudden change in the text-mes"
      ]
    },
    {
      "cell_type": "code",
      "metadata": {
        "id": "VK8dKji5v6W9",
        "outputId": "47450bdf-20aa-4367-88cd-050a6e2afcd1",
        "colab": {
          "base_uri": "https://localhost:8080/"
        }
      },
      "source": [
        "import numpy as np\n",
        "import pandas as pd\n",
        "import matplotlib.pyplot as plt\n",
        "import seaborn as sns\n",
        "\n",
        "df = pd.read_csv(\"https://raw.githubusercontent.com/ferjorosa/learn-pymc/main/Probabilistic%20Porgramming%20For%20Hackers/Chapter%201%20-%20Introduction/data/msg_data.csv\")\n",
        "print(df.shape)"
      ],
      "execution_count": 22,
      "outputs": [
        {
          "output_type": "stream",
          "name": "stdout",
          "text": [
            "(74, 1)\n"
          ]
        }
      ]
    },
    {
      "cell_type": "code",
      "metadata": {
        "id": "2U5HVOwGyTnU",
        "outputId": "0fac5229-33ef-44e9-e2a6-0c8e13cd958b",
        "colab": {
          "base_uri": "https://localhost:8080/",
          "height": 445
        }
      },
      "source": [
        "fig, ax = plt.subplots(figsize=(21,7))\n",
        "var_x = np.array(list(range(0, df.shape[0])))\n",
        "var_y = \"average_day_msgs\"\n",
        "sns.barplot(ax=ax, data=df, x=var_x, y=var_y, color=\"blue\")"
      ],
      "execution_count": 21,
      "outputs": [
        {
          "output_type": "execute_result",
          "data": {
            "text/plain": [
              "<matplotlib.axes._subplots.AxesSubplot at 0x7f4ae5cf9890>"
            ]
          },
          "metadata": {},
          "execution_count": 21
        },
        {
          "output_type": "display_data",
          "data": {
            "image/png": "[encoded data removed]",
            "text/plain": [
              "<Figure size 1512x504 with 1 Axes>"
            ]
          },
          "metadata": {
            "needs_background": "light"
          }
        }
      ]
    }
  ]
}